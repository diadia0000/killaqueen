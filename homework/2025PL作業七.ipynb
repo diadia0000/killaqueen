{
 "cells": [
  {
   "cell_type": "raw",
   "id": "9e56a71d-d229-4e67-9267-c07033bf1b58",
   "metadata": {},
   "source": [
    "# Python Concurrency Programming Lab Notebook\n",
    "本 jupyter Notebook 為 Python concurrency(並行) 程式設計實驗練習，學習lab的程式碼，完成指定的實作程式碼並回答觀察和報告項目。\n",
    "將檔名改為 學號姓名2025PL作業七 的notebook上傳到網路學園。(請勿使用chaptGPT直接回答問題，使用ChatGPT做為輔助的工具。)"
   ]
  },
  {
   "cell_type": "markdown",
   "id": "063a5cda",
   "metadata": {},
   "source": [
    "## 🧪 Lab 1：建立 Thread 並傳遞參數"
   ]
  },
  {
   "cell_type": "code",
   "id": "1950de8d",
   "metadata": {},
   "source": [
    "import threading\n",
    "import time\n",
    "\n",
    "def worker(name):\n",
    "    print(f\"[{name}] Start\")\n",
    "    time.sleep(2)\n",
    "    print(f\"[{name}] Done\")\n",
    "\n",
    "t1 = threading.Thread(target=worker, args=(\"Worker1\",))\n",
    "t2 = threading.Thread(target=worker, args=(\"Worker2\",))\n",
    "\n",
    "t1.start()\n",
    "t2.start()\n",
    "t1.join()\n",
    "t2.join()"
   ],
   "outputs": [],
   "execution_count": null
  },
  {
   "cell_type": "markdown",
   "id": "69cc956f",
   "metadata": {},
   "source": [
    "### 🔨 動手實作 (Hands-on)\n",
    "- [ ] 將上述程式碼改寫成能同時建立 5 個不同名稱的 thread。\n",
    "- [ ] 每個 thread 睡眠時間隨機 1～3 秒。"
   ]
  },
  {
   "cell_type": "code",
   "id": "c7ee9bab-7089-4790-b877-db0158936d3d",
   "metadata": {},
   "source": [
    "#將上述程式碼改寫成能同時建立 5 個不同名稱的 thread。在此輸入你的程式碼...\n",
    "def worker(name):\n",
    "    print(f\"[{name}] Start\")\n",
    "    time.sleep(2)\n",
    "    print(f\"[{name}] Done\")\n",
    "t1 = threading.Thread(target=worker, args=(\"Worker1\",))\n",
    "t2 = threading.Thread(target=worker, args=(\"Worker2\",))\n",
    "t3 = threading.Thread(target=worker, args=(\"Worker3\",))\n",
    "t4 = threading.Thread(target=worker, args=(\"Worker4\",))\n",
    "t5 = threading.Thread(target=worker, args=(\"Worker5\",))\n",
    "t1.start()\n",
    "t2.start()\n",
    "t3.start()\n",
    "t4.start()\n",
    "t5.start()\n",
    "t1.join()\n",
    "t2.join()\n",
    "t3.join()\n",
    "t4.join()\n",
    "t5.join()\n"
   ],
   "outputs": [],
   "execution_count": null
  },
  {
   "cell_type": "code",
   "id": "6d2a4657-e26b-4ad2-a73f-ac6dca6eed2b",
   "metadata": {
    "ExecuteTime": {
     "end_time": "2025-05-29T05:41:36.507173Z",
     "start_time": "2025-05-29T05:41:36.492102Z"
    }
   },
   "source": [
    "#每個 thread 睡眠時間隨機 1～3 秒。在此輸入你的程式碼...\n",
    "from random import randint\n",
    "import threading\n",
    "import time\n",
    "def worker(name):\n",
    "    print(f\"[{name}] Start\")\n",
    "    time.sleep(randint(1,4))\n",
    "    print(f\"[{name}] Done\")\n",
    "t1 = threading.Thread(target=worker, args=(\"Worker1\",))\n",
    "t2 = threading.Thread(target=worker, args=(\"Worker2\",))\n",
    "t3 = threading.Thread(target=worker, args=(\"Worker3\",))\n",
    "t4 = threading.Thread(target=worker, args=(\"Worker4\",))\n",
    "t5 = threading.Thread(target=worker, args=(\"Worker5\",))\n",
    "t1.start()\n",
    "t2.start()\n",
    "t3.start()\n",
    "t4.start()\n",
    "t5.start()\n",
    "#t1.join()\n",
    "#t2.join()\n",
    "#t3.join()\n",
    "#t4.join()\n",
    "#t5.join()"
   ],
   "outputs": [
    {
     "name": "stdout",
     "output_type": "stream",
     "text": [
      "[Worker1] Start\n",
      "[Worker2] Start\n",
      "[Worker3] Start\n",
      "[Worker4] Start\n",
      "[Worker5] Start\n",
      "[Worker2] Done\n",
      "[Worker3] Done\n",
      "[Worker1] Done[Worker4] Done\n",
      "[Worker5] Done\n",
      "\n"
     ]
    }
   ],
   "execution_count": 7
  },
  {
   "cell_type": "markdown",
   "id": "3bdc1baa-3900-4c94-bdbb-e01f13cb8dd3",
   "metadata": {},
   "source": [
    "### 🔍 觀察項目 (Observations)\n",
    "- Thread 是否會同時執行？\n",
    "- 執行順序是否固定？"
   ]
  },
  {
   "cell_type": "raw",
   "id": "a9624e09-c063-482d-80ab-6f4949dd3f1e",
   "metadata": {},
   "source": [
    "# 在此輸入你的答案...\n",
    "Thread會同時執行，但順序不固定。"
   ]
  },
  {
   "cell_type": "markdown",
   "id": "429da9b3",
   "metadata": {},
   "source": [
    "### 📝 報告問題 (Reporting)\n",
    "1. 執行緒間的輸出順序會固定嗎？為什麼？\n",
    "1. 如果不呼叫 join() 會發生什麼事？"
   ]
  },
  {
   "cell_type": "raw",
   "id": "bbac9f4b-99bd-4b16-95e8-a26e3ec32880",
   "metadata": {},
   "source": [
    "# 在此輸入你的答案...\n",
    "1. 不固定，由作業系統排程管理，不同執行續的執行時間點與順序取決於系統策略\n",
    "2. 有可能程式結束時沒看到任何輸出(Done)"
   ]
  },
  {
   "cell_type": "markdown",
   "id": "7499bb96",
   "metadata": {},
   "source": [
    "## 🧪 Lab 2：使用 Lock 防止 Race Condition"
   ]
  },
  {
   "cell_type": "code",
   "id": "715910ea",
   "metadata": {},
   "source": [
    "import threading\n",
    "\n",
    "counter = 0\n",
    "lock = threading.Lock()\n",
    "\n",
    "def increment():\n",
    "    global counter\n",
    "    for _ in range(100000):\n",
    "        with lock:\n",
    "            counter += 1\n",
    "\n",
    "threads = [threading.Thread(target=increment) for _ in range(4)]\n",
    "for t in threads: t.start()\n",
    "for t in threads: t.join()\n",
    "\n",
    "print(\"Final counter:\", counter)"
   ],
   "outputs": [],
   "execution_count": null
  },
  {
   "cell_type": "markdown",
   "id": "a3a988e8",
   "metadata": {},
   "source": [
    "### 🔨 動手實作 (Hands-on)\n",
    "- [ ] 移除 with lock 試試看會發生什麼。\n",
    "- [ ] 改為只使用 2 個 thread、再改為 10 個觀察變化。"
   ]
  },
  {
   "cell_type": "code",
   "id": "0c09c045-bfd8-472a-88c0-3cc3902f3958",
   "metadata": {
    "ExecuteTime": {
     "end_time": "2025-05-29T05:44:53.544785Z",
     "start_time": "2025-05-29T05:44:53.375761Z"
    }
   },
   "source": [
    "#移除 with lock 試試看會發生什麼。在此輸入你的程式碼...\n",
    "import threading\n",
    "counter = 0\n",
    "def increment():\n",
    "    global counter\n",
    "    for _ in range(1000000):\n",
    "        counter += 1\n",
    "\n",
    "threads = [threading.Thread(target=increment) for _ in range(4)]\n",
    "for t in threads: t.start()\n",
    "for t in threads: t.join()\n",
    "\n",
    "print(\"Final counter:\", counter)"
   ],
   "outputs": [
    {
     "name": "stdout",
     "output_type": "stream",
     "text": [
      "Final counter: 3349926\n"
     ]
    }
   ],
   "execution_count": 6
  },
  {
   "cell_type": "code",
   "id": "dc36ec4c-e887-4e7d-b7b2-0bfbc833e4bd",
   "metadata": {
    "ExecuteTime": {
     "end_time": "2025-05-29T05:44:35.734895Z",
     "start_time": "2025-05-29T05:44:28.249245Z"
    }
   },
   "source": [
    "#改為只使用 2 個 thread、再改為 10 個觀察變化。在此輸入你的程式碼...\n",
    "counter = 0\n",
    "lock = threading.Lock()\n",
    "def increment():\n",
    "    global counter\n",
    "    for _ in range(10000000):\n",
    "        with lock:\n",
    "            counter += 1\n",
    "\n",
    "threads = [threading.Thread(target=increment) for _ in range(2)]\n",
    "for t in threads: t.start()\n",
    "for t in threads: t.join()\n",
    "\n",
    "print(\"Final counter:\", counter)"
   ],
   "outputs": [
    {
     "name": "stdout",
     "output_type": "stream",
     "text": [
      "Final counter: 20000000\n"
     ]
    }
   ],
   "execution_count": 4
  },
  {
   "metadata": {
    "ExecuteTime": {
     "end_time": "2025-05-29T05:44:37.989029Z",
     "start_time": "2025-05-29T05:44:37.813753Z"
    }
   },
   "cell_type": "code",
   "source": [
    "counter = 0\n",
    "lock = threading.Lock()\n",
    "def increment():\n",
    "    global counter\n",
    "    for _ in range(10000000):\n",
    "        with lock:\n",
    "            counter += 1\n",
    "\n",
    "threads = [threading.Thread(target=increment) for _ in range(10)]\n",
    "for t in threads: t.start()\n",
    "for t in threads: t.join()\n",
    "\n",
    "print(\"Final counter:\", counter)"
   ],
   "id": "a31869dd28881843",
   "outputs": [
    {
     "name": "stdout",
     "output_type": "stream",
     "text": [
      "Final counter: 1000000\n"
     ]
    }
   ],
   "execution_count": 5
  },
  {
   "cell_type": "markdown",
   "id": "c8d0869c",
   "metadata": {},
   "source": [
    "### 🔍 觀察項目 (Observations)\n",
    "- 最終 counter 值是否與預期一致？\n",
    "- 不加鎖情況下會有什麼問題？"
   ]
  },
  {
   "metadata": {},
   "cell_type": "markdown",
   "source": [
    "###### 在此輸入你的答案...\n",
    "一致，除了沒有lock的counter。\n",
    "如果沒加鎖，多個執行緒同時對 counter 進行讀取與修改，導致某些更新被蓋掉。"
   ],
   "id": "fb4a172edd67ab90"
  },
  {
   "cell_type": "markdown",
   "id": "ac5697b4",
   "metadata": {},
   "source": [
    "### 📝 報告問題 (Reporting)\n",
    "1. 為什麼 race condition 會導致錯誤？\n",
    "1. Lock 是如何解決這個問題的？"
   ]
  },
  {
   "metadata": {},
   "cell_type": "markdown",
   "source": [
    "###### 在此輸入你的答案...\n",
    "1.\n",
    "因為多個執行緒在同時讀寫同一個共享變數，可能造成資料錯誤或遺失更新。\n",
    "2. 以上廁所來說\n",
    "假如今天有一間廁所(function)和一把鑰匙(threading.Lock())，有很多的人(threads)都在排隊要大號，先到的人(thread)就可以獲得廁所門的鑰匙(lock)，並且在上廁所的時候會把門鎖起來(lock.acquire())，此時正在排隊的其他人就只能在門外等待，直到正在大號的人把門打開將鑰匙交出來(lock.release())，這樣下一個人就能拿到這鑰匙進入廁所，並把門鎖起來以防止他人進入，\n"
   ],
   "id": "b15a505ca517e37e"
  },
  {
   "cell_type": "markdown",
   "id": "62b6774d",
   "metadata": {},
   "source": [
    "## 🧪 Lab 3：使用 Semaphore 控制資源存取數量"
   ]
  },
  {
   "cell_type": "code",
   "id": "8d38fc10",
   "metadata": {
    "ExecuteTime": {
     "end_time": "2025-05-29T05:57:13.304294Z",
     "start_time": "2025-05-29T05:57:13.288903Z"
    }
   },
   "source": [
    "import threading\n",
    "import time\n",
    "\n",
    "sem = threading.Semaphore(2)\n",
    "\n",
    "def access_resource(n):\n",
    "    with sem:\n",
    "        print(f\"Thread {n} accessing resource...\")\n",
    "        time.sleep(2)\n",
    "        print(f\"Thread {n} done.\")\n",
    "\n",
    "for i in range(5):\n",
    "    t = threading.Thread(target=access_resource, args=(i,))\n",
    "    t.start()"
   ],
   "outputs": [
    {
     "name": "stdout",
     "output_type": "stream",
     "text": [
      "Thread 0 accessing resource...\n",
      "Thread 1 accessing resource...\n",
      "Thread 1 done.\n",
      "Thread 2 accessing resource...\n",
      "Thread 0 done.\n",
      "Thread 3 accessing resource...\n",
      "Thread 2 done.Thread 3 done.\n",
      "Thread 4 accessing resource...\n",
      "\n",
      "Thread 4 done.\n"
     ]
    }
   ],
   "execution_count": 7
  },
  {
   "cell_type": "markdown",
   "id": "1c9818a0",
   "metadata": {},
   "source": [
    "### 🔨 動手實作 (Hands-on)\n",
    "- [ ] 改為 Semaphore(3) 與 Semaphore(1)，比較差異。\n",
    "- [ ] 加上時間戳（time.time()）顯示開始與結束時間。"
   ]
  },
  {
   "cell_type": "code",
   "id": "aeaf7152-3bd0-4b34-9441-a3c1a0ffab00",
   "metadata": {},
   "source": [
    "#改為 Semaphore(3) 與 Semaphore(1)，比較差異。在此輸入你的程式碼...\n",
    "import threading\n",
    "import time\n",
    "\n",
    "sem = threading.Semaphore(3)\n",
    "\n",
    "def access_resource(n):\n",
    "    with sem:\n",
    "        print(f\"Thread {n} accessing resource...\")\n",
    "        time.sleep(2)\n",
    "        print(f\"Thread {n} done.\")\n",
    "\n",
    "for i in range(5):\n",
    "    t = threading.Thread(target=access_resource, args=(i,))\n",
    "    t.start()"
   ],
   "outputs": [],
   "execution_count": null
  },
  {
   "metadata": {},
   "cell_type": "code",
   "outputs": [],
   "execution_count": null,
   "source": [
    "#改為 Semaphore(3) 與 Semaphore(1)，比較差異。在此輸入你的程式碼...\n",
    "import threading\n",
    "import time\n",
    "\n",
    "sem = threading.Semaphore(1)\n",
    "\n",
    "def access_resource(n):\n",
    "    with sem:\n",
    "        print(f\"Thread {n} accessing resource...\")\n",
    "        time.sleep(2)\n",
    "        print(f\"Thread {n} done.\")\n",
    "\n",
    "for i in range(5):\n",
    "    t = threading.Thread(target=access_resource, args=(i,))\n",
    "    t.start()"
   ],
   "id": "82c36bc3f563dd7d"
  },
  {
   "cell_type": "code",
   "id": "2088e942-06eb-4bfb-a0ea-f22bd166c273",
   "metadata": {},
   "source": [
    "#加上時間戳（time.time()）顯示開始與結束時間。在此輸入你的程式碼...\n"
   ],
   "outputs": [],
   "execution_count": null
  },
  {
   "cell_type": "markdown",
   "id": "07cd1214",
   "metadata": {},
   "source": [
    "### 🔍 觀察項目 (Observations)\n",
    "- 同時有幾個 thread 在執行中？\n",
    "- semaphore 控制效果明顯嗎？"
   ]
  },
  {
   "cell_type": "code",
   "id": "cb6bbfc3-3fad-4892-9cb9-ed38f4acb808",
   "metadata": {},
   "source": [
    "# 在此輸入你的答案...\n"
   ],
   "outputs": [],
   "execution_count": null
  },
  {
   "cell_type": "markdown",
   "id": "27fd995c",
   "metadata": {},
   "source": [
    "### 📝 報告問題 (Reporting)\n",
    "1. Semaphore 與 Lock 有何不同？\n",
    "1. 使用場景分別適合什麼情況？"
   ]
  },
  {
   "cell_type": "code",
   "id": "7c8f3bd1",
   "metadata": {},
   "source": [
    "# 在此輸入你的答案...\n"
   ],
   "outputs": [],
   "execution_count": null
  },
  {
   "cell_type": "markdown",
   "id": "954cab28",
   "metadata": {},
   "source": [
    "## 🧪 Lab 4：使用 Event 控制啟動時機"
   ]
  },
  {
   "cell_type": "code",
   "id": "bad864b2",
   "metadata": {},
   "source": [
    "import threading\n",
    "import time\n",
    "\n",
    "start_event = threading.Event()\n",
    "\n",
    "def task():\n",
    "    print(\"Waiting to start...\")\n",
    "    start_event.wait()\n",
    "    print(\"Started!\")\n",
    "\n",
    "for _ in range(3):\n",
    "    threading.Thread(target=task).start()\n",
    "\n",
    "time.sleep(2)\n",
    "print(\"Releasing threads...\")\n",
    "start_event.set()"
   ],
   "outputs": [],
   "execution_count": null
  },
  {
   "cell_type": "markdown",
   "id": "385a0075",
   "metadata": {},
   "source": [
    "### 🔨 動手實作 (Hands-on)\n",
    "- [ ] 修改為延遲 5 秒釋放 Event。\n",
    "- [ ] 顯示每個 thread 的實際開始時間。"
   ]
  },
  {
   "cell_type": "code",
   "id": "9669da1b-1b7b-4ae9-813b-fd8423aef805",
   "metadata": {},
   "source": [
    "#修改為延遲 5 秒釋放 Event。在此輸入你的程式碼...\n"
   ],
   "outputs": [],
   "execution_count": null
  },
  {
   "cell_type": "code",
   "id": "732b52c1-5378-4a09-800a-7fdc75037bbf",
   "metadata": {},
   "source": [
    "#顯示每個 thread 的實際開始時間。在此輸入你的程式碼...\n"
   ],
   "outputs": [],
   "execution_count": null
  },
  {
   "cell_type": "markdown",
   "id": "8eb8c64d",
   "metadata": {},
   "source": [
    "### 🔍 觀察項目 (Observations)\n",
    "- 所有 thread 是否會同時啟動？\n",
    "- 若不設置 event.set() 會怎樣？"
   ]
  },
  {
   "cell_type": "code",
   "id": "55840456-431f-4065-a86e-95fb41cb77a7",
   "metadata": {},
   "source": [
    "# 在此輸入你的答案...\n"
   ],
   "outputs": [],
   "execution_count": null
  },
  {
   "cell_type": "markdown",
   "id": "9e5adc54",
   "metadata": {},
   "source": [
    "### 📝 報告問題 (Reporting)\n",
    "1. Event 是如何同步啟動多個執行緒的？\n",
    "1. 這種機制適合用在哪些應用場景？"
   ]
  },
  {
   "cell_type": "code",
   "id": "9d3f06e2",
   "metadata": {},
   "source": [
    "# 在此輸入你的答案...\n"
   ],
   "outputs": [],
   "execution_count": null
  },
  {
   "cell_type": "markdown",
   "id": "a4a70a35",
   "metadata": {},
   "source": [
    "## 🧪 Lab 5：使用 Condition 實作 Producer-Consumer"
   ]
  },
  {
   "cell_type": "code",
   "id": "124830cd",
   "metadata": {},
   "source": [
    "import threading\n",
    "import time\n",
    "\n",
    "queue = []\n",
    "condition = threading.Condition()\n",
    "\n",
    "def producer():\n",
    "    for i in range(5):\n",
    "        with condition:\n",
    "            queue.append(i)\n",
    "            print(f\"Produced {i}\")\n",
    "            condition.notify()\n",
    "        time.sleep(1)\n",
    "\n",
    "def consumer():\n",
    "    for _ in range(5):\n",
    "        with condition:\n",
    "            while not queue:\n",
    "                condition.wait()\n",
    "            item = queue.pop(0)\n",
    "            print(f\"Consumed {item}\")\n",
    "\n",
    "t1 = threading.Thread(target=producer)\n",
    "t2 = threading.Thread(target=consumer)\n",
    "\n",
    "t1.start()\n",
    "t2.start()\n",
    "t1.join()\n",
    "t2.join()"
   ],
   "outputs": [],
   "execution_count": null
  },
  {
   "cell_type": "markdown",
   "id": "c0cb13a4",
   "metadata": {},
   "source": [
    "### 🔨 動手實作 (Hands-on)\n",
    "- [ ] 改為 2 個 consumer。\n",
    "- [ ] 在 queue 為空的時候觀察消費者是否會等待。"
   ]
  },
  {
   "cell_type": "code",
   "id": "aa95b8b6-2e4a-40c6-b967-6e7db12efb6e",
   "metadata": {},
   "source": [
    "#改為 2 個 consumer。在此輸入你的程式碼...\n"
   ],
   "outputs": [],
   "execution_count": null
  },
  {
   "cell_type": "code",
   "id": "7f2a4423-1dd8-4a9b-8f0c-643e03a6f7de",
   "metadata": {},
   "source": [
    "#在 queue 為空的時候觀察消費者是否會等待?\n"
   ],
   "outputs": [],
   "execution_count": null
  },
  {
   "cell_type": "markdown",
   "id": "2567413c",
   "metadata": {},
   "source": [
    "### 🔍 觀察項目 (Observations)\n",
    "- 消費是否有順序性？\n",
    "- condition.wait() 是如何發揮作用的？"
   ]
  },
  {
   "cell_type": "code",
   "id": "fce1d151-1344-4024-928f-acfdcf132209",
   "metadata": {},
   "source": [
    "# 在此輸入你的答案...\n"
   ],
   "outputs": [],
   "execution_count": null
  },
  {
   "cell_type": "markdown",
   "id": "3aeaa07b",
   "metadata": {},
   "source": [
    "### 📝 報告問題 (Reporting)\n",
    "1. 如果沒有 while not queue 會出現什麼狀況？\n",
    "1. Condition 與 Event 有何差異？"
   ]
  },
  {
   "cell_type": "code",
   "id": "332e30c3",
   "metadata": {},
   "source": [
    "# 在此輸入你的答案...\n"
   ],
   "outputs": [],
   "execution_count": null
  }
 ],
 "metadata": {
  "kernelspec": {
   "display_name": "Python 3 (ipykernel)",
   "language": "python",
   "name": "python3"
  },
  "language_info": {
   "codemirror_mode": {
    "name": "ipython",
    "version": 3
   },
   "file_extension": ".py",
   "mimetype": "text/x-python",
   "name": "python",
   "nbconvert_exporter": "python",
   "pygments_lexer": "ipython3",
   "version": "3.12.3"
  }
 },
 "nbformat": 4,
 "nbformat_minor": 5
}
