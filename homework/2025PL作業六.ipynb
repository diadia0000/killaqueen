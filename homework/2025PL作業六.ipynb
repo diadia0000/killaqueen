{
 "cells": [
  {
   "cell_type": "markdown",
   "id": "ff20a26b-87be-4070-b84c-a461c074b003",
   "metadata": {},
   "source": [
    "# 2025PL作業六\n",
    "# 🧪   Lab: 探索 Python 記憶體管理系統"
   ]
  },
  {
   "cell_type": "markdown",
   "id": "abfb2857",
   "metadata": {},
   "source": [
    "\n",
    "### ✅ 作業目標：\n",
    "- 學會如何觀察與分析 Python 的記憶體分配與釋放行為  \n",
    "- 熟悉 `sys.getrefcount()` 與 `gc` 模組的使用  \n",
    "- 學會避免記憶體洩漏與處理循環參照  \n"
   ]
  },
  {
   "cell_type": "markdown",
   "id": "f20d96e1-2ac3-4d7b-a80e-e70f02391281",
   "metadata": {},
   "source": [
    "\n",
    "### 📤 繳交說明：\n",
    "- 請填寫所有空白程式區塊和結果說明\n",
    "- 完成後上傳網路學園 `學號姓名PL2025作業六.ipynb` 檔案\n"
   ]
  },
  {
   "cell_type": "code",
   "id": "64d335b4",
   "metadata": {
    "ExecuteTime": {
     "end_time": "2025-05-15T03:56:32.962696Z",
     "start_time": "2025-05-15T03:56:32.930559Z"
    }
   },
   "source": [
    "import sys\n",
    "import gc\n",
    "import weakref\n",
    "import psutil\n",
    "import os\n",
    "import time"
   ],
   "outputs": [],
   "execution_count": 1
  },
  {
   "cell_type": "markdown",
   "id": "a4c671d9",
   "metadata": {},
   "source": [
    "## 2️⃣ 物件記憶體大小與引用計數"
   ]
  },
  {
   "cell_type": "code",
   "execution_count": null,
   "id": "53a474b2",
   "metadata": {},
   "outputs": [],
   "source": [
    "a = []\n",
    "print(\"記憶體大小 (bytes):\", sys.getsizeof(a))\n",
    "print(\"引用計數:\", sys.getrefcount(a))"
   ]
  },
  {
   "cell_type": "markdown",
   "id": "d4c52657",
   "metadata": {},
   "source": [
    "\n",
    "### 🧩 任務 2.1\n",
    "建立一個自訂的類別 `MyData`，實例化後觀察以下資訊：\n",
    "- 實體的記憶體大小（使用 `sys.getsizeof()`）\n",
    "- 引用計數（使用 `sys.getrefcount()`）\n"
   ]
  },
  {
   "cell_type": "code",
   "execution_count": null,
   "id": "01c9ef21",
   "metadata": {},
   "outputs": [],
   "source": [
    "# ✅ 請在此撰寫你的程式碼\n",
    "\n",
    "\n",
    "\n"
   ]
  },
  {
   "cell_type": "markdown",
   "id": "d90c5715-578c-454f-8dbc-43a4d8c0b9ed",
   "metadata": {},
   "source": [
    "結果說明:\n"
   ]
  },
  {
   "cell_type": "markdown",
   "id": "876a98bf",
   "metadata": {},
   "source": [
    "## 3️⃣ 垃圾回收與 __del__ 方法"
   ]
  },
  {
   "cell_type": "code",
   "execution_count": null,
   "id": "2bf3a24b",
   "metadata": {},
   "outputs": [],
   "source": [
    "class MyClass:\n",
    "    def __del__(self):\n",
    "        print(\"MyClass 實例已被回收\")\n",
    "\n",
    "obj = MyClass()\n",
    "print(\"建立完畢\")\n",
    "del obj\n",
    "print(\"已刪除 obj\")"
   ]
  },
  {
   "cell_type": "markdown",
   "id": "1f79fa58",
   "metadata": {},
   "source": [
    "\n",
    "### 🧩 任務 3.1\n",
    "建立兩個 `Node` 物件 `a` 和 `b`，彼此互相參考形成循環，然後刪除它們，使用 `gc.collect()` 強制回收並觀察結果。\n"
   ]
  },
  {
   "cell_type": "code",
   "execution_count": null,
   "id": "a68d574c",
   "metadata": {},
   "outputs": [],
   "source": [
    "# ✅ 請在此建立循環參照並觀察垃圾回收情形\n",
    "\n",
    "\n",
    "\n"
   ]
  },
  {
   "cell_type": "markdown",
   "id": "83befc9b-f870-4354-b560-22ffe994ddb2",
   "metadata": {},
   "source": [
    "結果說明:\n"
   ]
  },
  {
   "cell_type": "markdown",
   "id": "e2511e7b-5760-4ab3-b19f-8aadc4fce43b",
   "metadata": {},
   "source": [
    "## 4️⃣ 使用 gc 模組觀察與控制垃圾回收"
   ]
  },
  {
   "cell_type": "code",
   "execution_count": null,
   "id": "01803bc4",
   "metadata": {},
   "outputs": [],
   "source": [
    "gc.set_debug(gc.DEBUG_LEAK)\n",
    "\n",
    "class Cycle:\n",
    "    def __init__(self):\n",
    "        self.cycle = self\n",
    "\n",
    "c = Cycle()\n",
    "del c\n",
    "unreachable = gc.collect()\n",
    "print(f\"不可達物件數量：{unreachable}\")\n",
    "print(\"垃圾回收統計資訊：\")\n",
    "print(gc.garbage)"
   ]
  },
  {
   "cell_type": "markdown",
   "id": "9efa907a-c995-4a93-bb59-5d8f1afc00de",
   "metadata": {},
   "source": [
    "\n",
    "### 🧩 任務 4.1\n",
    "1. 關閉自動垃圾回收 (`gc.disable()`)\n",
    "2. 建立大量會造成循環參照的物件\n",
    "3. 觀察手動與非手動回收下的情況差異\n"
   ]
  },
  {
   "cell_type": "code",
   "execution_count": null,
   "id": "177a1e88",
   "metadata": {},
   "outputs": [],
   "source": [
    "# ✅ 請在此完成任務 4.1\n",
    "\n",
    "\n",
    "\n"
   ]
  },
  {
   "cell_type": "raw",
   "id": "047b9122-46cb-4c3c-bd7c-6fc35fbe0757",
   "metadata": {},
   "source": [
    "結果說明:\n"
   ]
  },
  {
   "cell_type": "markdown",
   "id": "9964725b-1f98-40d2-9687-b00165d13dbb",
   "metadata": {},
   "source": [
    "## 5️⃣ 觀察記憶體使用量（使用 psutil）"
   ]
  },
  {
   "cell_type": "code",
   "execution_count": null,
   "id": "95f9fc40",
   "metadata": {},
   "outputs": [],
   "source": [
    "process = psutil.Process(os.getpid())\n",
    "\n",
    "def memory():\n",
    "    return process.memory_info().rss / 1024 ** 2  # MB\n",
    "\n",
    "print(\"當前記憶體使用量: \", memory(), \"MB\")"
   ]
  },
  {
   "cell_type": "markdown",
   "id": "da60461a-87a2-4124-a54f-e42abd7dfe26",
   "metadata": {},
   "source": [
    "\n",
    "### 🧩 任務 5.1\n",
    "撰寫程式大量配置記憶體（例如建立上百萬項的 list 或 dict），觀察記憶體變化。\n"
   ]
  },
  {
   "cell_type": "code",
   "execution_count": null,
   "id": "2c09fbcf",
   "metadata": {},
   "outputs": [],
   "source": [
    "# ✅ 請在此撰寫程式並觀察記憶體使用變化\n",
    "\n",
    "\n",
    "\n"
   ]
  },
  {
   "cell_type": "raw",
   "id": "5ae85029-6d60-4a29-b293-2497ada94a01",
   "metadata": {},
   "source": [
    "結果說明:\n"
   ]
  },
  {
   "cell_type": "markdown",
   "id": "b9ecb774-0df0-4e25-96e0-57246ec7b084",
   "metadata": {},
   "source": [
    "## 📌 延伸挑戰（optional）僅供參考"
   ]
  },
  {
   "cell_type": "markdown",
   "id": "bbc8be20",
   "metadata": {},
   "source": [
    "\n",
    "- 使用 `tracemalloc` 模組追蹤記憶體配置來源\n",
    "- 比較 `list`, `tuple`, `set`, `dict` 等資料結構的記憶體使用差異\n"
   ]
  }
 ],
 "metadata": {
  "kernelspec": {
   "display_name": "Python [conda env:base] *",
   "language": "python",
   "name": "conda-base-py"
  },
  "language_info": {
   "codemirror_mode": {
    "name": "ipython",
    "version": 3
   },
   "file_extension": ".py",
   "mimetype": "text/x-python",
   "name": "python",
   "nbconvert_exporter": "python",
   "pygments_lexer": "ipython3",
   "version": "3.10.9"
  }
 },
 "nbformat": 4,
 "nbformat_minor": 5
}
