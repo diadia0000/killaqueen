{
 "cells": [
  {
   "cell_type": "markdown",
   "id": "ff20a26b-87be-4070-b84c-a461c074b003",
   "metadata": {},
   "source": [
    "# 2025PL作業六\n",
    "# 🧪   Lab: 探索 Python 記憶體管理系統"
   ]
  },
  {
   "cell_type": "markdown",
   "id": "abfb2857",
   "metadata": {},
   "source": [
    "\n",
    "### ✅ 作業目標：\n",
    "- 學會如何觀察與分析 Python 的記憶體分配與釋放行為  \n",
    "- 熟悉 `sys.getrefcount()` 與 `gc` 模組的使用  \n",
    "- 學會避免記憶體洩漏與處理循環參照  \n"
   ]
  },
  {
   "cell_type": "markdown",
   "id": "f20d96e1-2ac3-4d7b-a80e-e70f02391281",
   "metadata": {},
   "source": [
    "\n",
    "### 📤 繳交說明：\n",
    "- 請填寫所有空白程式區塊和結果說明\n",
    "- 完成後上傳網路學園 `學號姓名PL2025作業六.ipynb` 檔案\n"
   ]
  },
  {
   "cell_type": "code",
   "id": "64d335b4",
   "metadata": {
    "ExecuteTime": {
     "end_time": "2025-05-20T13:12:14.838899Z",
     "start_time": "2025-05-20T13:12:14.819638Z"
    }
   },
   "source": [
    "import sys\n",
    "import gc\n",
    "import weakref\n",
    "import psutil\n",
    "import os\n",
    "import time"
   ],
   "outputs": [],
   "execution_count": 1
  },
  {
   "cell_type": "markdown",
   "id": "a4c671d9",
   "metadata": {},
   "source": [
    "## 2️⃣ 物件記憶體大小與引用計數"
   ]
  },
  {
   "cell_type": "code",
   "id": "53a474b2",
   "metadata": {},
   "source": [
    "a = []\n",
    "print(\"記憶體大小 (bytes):\", sys.getsizeof(a))\n",
    "print(\"引用計數:\", sys.getrefcount(a))"
   ],
   "outputs": [],
   "execution_count": null
  },
  {
   "cell_type": "markdown",
   "id": "d4c52657",
   "metadata": {},
   "source": [
    "\n",
    "### 🧩 任務 2.1\n",
    "建立一個自訂的類別 `MyData`，實例化後觀察以下資訊：\n",
    "- 實體的記憶體大小（使用 `sys.getsizeof()`）\n",
    "- 引用計數（使用 `sys.getrefcount()`）\n"
   ]
  },
  {
   "cell_type": "code",
   "id": "01c9ef21",
   "metadata": {
    "ExecuteTime": {
     "end_time": "2025-05-20T13:11:16.347419Z",
     "start_time": "2025-05-20T13:11:16.337333Z"
    }
   },
   "source": [
    "# ✅ 請在此撰寫你的程式碼\n",
    "class Mydata():\n",
    "    def __init__(self):\n",
    "        self.data = []\n",
    "obj = Mydata()\n",
    "print(\"\\nMyData 實體記憶體大小 (bytes):\", sys.getsizeof(obj))\n",
    "print(\"MyData 實體引用計數:\", sys.getrefcount(obj))\n",
    "\n",
    "\n"
   ],
   "outputs": [
    {
     "name": "stdout",
     "output_type": "stream",
     "text": [
      "\n",
      "MyData 實體記憶體大小 (bytes): 48\n",
      "MyData 實體引用計數: 2\n"
     ]
    }
   ],
   "execution_count": 2
  },
  {
   "cell_type": "markdown",
   "id": "d90c5715-578c-454f-8dbc-43a4d8c0b9ed",
   "metadata": {},
   "source": [
    "結果說明:\n"
   ]
  },
  {
   "cell_type": "markdown",
   "id": "876a98bf",
   "metadata": {},
   "source": [
    "## 3️⃣ 垃圾回收與 __del__ 方法"
   ]
  },
  {
   "cell_type": "code",
   "id": "2bf3a24b",
   "metadata": {},
   "source": [
    "class MyClass:\n",
    "    def __del__(self):\n",
    "        print(\"MyClass 實例已被回收\")\n",
    "\n",
    "obj = MyClass()\n",
    "print(\"建立完畢\")\n",
    "del obj\n",
    "print(\"已刪除 obj\")"
   ],
   "outputs": [],
   "execution_count": null
  },
  {
   "cell_type": "markdown",
   "id": "1f79fa58",
   "metadata": {},
   "source": [
    "\n",
    "### 🧩 任務 3.1\n",
    "建立兩個 `Node` 物件 `a` 和 `b`，彼此互相參考形成循環，然後刪除它們，使用 `gc.collect()` 強制回收並觀察結果。\n"
   ]
  },
  {
   "cell_type": "code",
   "id": "a68d574c",
   "metadata": {
    "ExecuteTime": {
     "end_time": "2025-05-20T13:11:34.029453Z",
     "start_time": "2025-05-20T13:11:33.986049Z"
    }
   },
   "source": [
    "# ✅ 請在此建立循環參照並觀察垃圾回收情形\n",
    "class Node:\n",
    "    def __init__(self):\n",
    "        self.ref = None\n",
    "        self.data = []\n",
    "    def __del__(self):\n",
    "        print(\"Node 已被回收\")\n",
    "\n",
    "# 關閉自動垃圾回收（觀察手動行為）\n",
    "gc.disable()\n",
    "\n",
    "# 建立互相參考的兩個物件 a, b\n",
    "a = Node()\n",
    "b = Node()\n",
    "a.ref = b\n",
    "b.ref = a\n",
    "\n",
    "# 觀察目前還沒回收\n",
    "print(\"建立後，未回收垃圾物件數量：\", len(gc.garbage))\n",
    "\n",
    "# 刪除變數\n",
    "del a\n",
    "del b\n",
    "\n",
    "# 嘗試手動強制垃圾回收\n",
    "print(\"執行 gc.collect() 前：\")\n",
    "unreachable = gc.collect()\n",
    "print(\"不可達物件數量：\", unreachable)\n",
    "\n",
    "# 顯示垃圾清單中仍未被回收的物件\n",
    "print(\"gc.garbage:\", gc.garbage)\n",
    "\n",
    "# 開啟自動垃圾回收\n",
    "gc.enable()\n",
    "\n",
    "\n",
    "\n",
    "\n"
   ],
   "outputs": [
    {
     "name": "stdout",
     "output_type": "stream",
     "text": [
      "建立後，未回收垃圾物件數量： 0\n",
      "執行 gc.collect() 前：\n",
      "Node 已被回收\n",
      "Node 已被回收\n",
      "不可達物件數量： 140\n",
      "gc.garbage: []\n"
     ]
    }
   ],
   "execution_count": 3
  },
  {
   "cell_type": "markdown",
   "id": "83befc9b-f870-4354-b560-22ffe994ddb2",
   "metadata": {},
   "source": [
    "結果說明:\n"
   ]
  },
  {
   "cell_type": "markdown",
   "id": "e2511e7b-5760-4ab3-b19f-8aadc4fce43b",
   "metadata": {},
   "source": [
    "## 4️⃣ 使用 gc 模組觀察與控制垃圾回收"
   ]
  },
  {
   "cell_type": "code",
   "id": "01803bc4",
   "metadata": {},
   "source": [
    "gc.set_debug(gc.DEBUG_LEAK)\n",
    "\n",
    "class Cycle:\n",
    "    def __init__(self):\n",
    "        self.cycle = self\n",
    "\n",
    "c = Cycle()\n",
    "del c\n",
    "unreachable = gc.collect()\n",
    "print(f\"不可達物件數量：{unreachable}\")\n",
    "print(\"垃圾回收統計資訊：\")\n",
    "print(gc.garbage)"
   ],
   "outputs": [],
   "execution_count": null
  },
  {
   "cell_type": "markdown",
   "id": "9efa907a-c995-4a93-bb59-5d8f1afc00de",
   "metadata": {},
   "source": [
    "\n",
    "### 🧩 任務 4.1\n",
    "1. 關閉自動垃圾回收 (`gc.disable()`)\n",
    "2. 建立大量會造成循環參照的物件\n",
    "3. 觀察手動與非手動回收下的情況差異\n"
   ]
  },
  {
   "cell_type": "code",
   "id": "177a1e88",
   "metadata": {
    "ExecuteTime": {
     "end_time": "2025-05-20T13:11:46.794829Z",
     "start_time": "2025-05-20T13:11:46.751285Z"
    }
   },
   "source": [
    "# ✅ 請在此完成任務 4.1\n",
    "gc.disable()\n",
    "class Cycle:\n",
    "    def __init__(self):\n",
    "        self.cycle = self\n",
    "objects = []\n",
    "for _ in range(10000):\n",
    "    obj = Cycle()\n",
    "    objects.append(obj)\n",
    "print(\"build 10000 object\")\n",
    "# 4. 刪除對這些物件的引用\n",
    "del objects\n",
    "print(\"delete\")\n",
    "print(\"尚未手動執行 gc.collect()，觀察垃圾回收情況...\")\n",
    "print(\"不可達物件數量 (collect 前)：\", gc.collect(0))  # 僅統計，不執行回收\n",
    "print(\"gc.garbage 長度：\", len(gc.garbage))\n",
    "\n",
    "# 5. 手動回收\n",
    "print(\"開始手動垃圾回收...\")\n",
    "unreachable = gc.collect()\n",
    "print(\"gc.collect() 回收物件數：\", unreachable)\n",
    "print(\"gc.garbage 長度：\", len(gc.garbage))\n"
   ],
   "outputs": [
    {
     "name": "stdout",
     "output_type": "stream",
     "text": [
      "build 10000 object\n",
      "delete\n",
      "尚未手動執行 gc.collect()，觀察垃圾回收情況...\n",
      "不可達物件數量 (collect 前)： 19998\n",
      "gc.garbage 長度： 0\n",
      "開始手動垃圾回收...\n",
      "gc.collect() 回收物件數： 64\n",
      "gc.garbage 長度： 0\n"
     ]
    }
   ],
   "execution_count": 2
  },
  {
   "cell_type": "raw",
   "id": "047b9122-46cb-4c3c-bd7c-6fc35fbe0757",
   "metadata": {},
   "source": [
    "結果說明:\n",
    "循環參照造成的記憶體問題無法以，python del回收，必須靠 GC 掃描與處理"
   ]
  },
  {
   "cell_type": "markdown",
   "id": "9964725b-1f98-40d2-9687-b00165d13dbb",
   "metadata": {},
   "source": [
    "## 5️⃣ 觀察記憶體使用量（使用 psutil）"
   ]
  },
  {
   "cell_type": "code",
   "id": "95f9fc40",
   "metadata": {},
   "source": [
    "process = psutil.Process(os.getpid())\n",
    "\n",
    "def memory():\n",
    "    return process.memory_info().rss / 1024 ** 2  # MB\n",
    "\n",
    "print(\"當前記憶體使用量: \", memory(), \"MB\")"
   ],
   "outputs": [],
   "execution_count": null
  },
  {
   "cell_type": "markdown",
   "id": "da60461a-87a2-4124-a54f-e42abd7dfe26",
   "metadata": {},
   "source": [
    "\n",
    "### 🧩 任務 5.1\n",
    "撰寫程式大量配置記憶體（例如建立上百萬項的 list 或 dict），觀察記憶體變化。\n"
   ]
  },
  {
   "cell_type": "code",
   "id": "2c09fbcf",
   "metadata": {
    "ExecuteTime": {
     "end_time": "2025-05-20T13:12:05.429744Z",
     "start_time": "2025-05-20T13:12:02.128503Z"
    }
   },
   "source": [
    "# ✅ 請在此撰寫程式並觀察記憶體使用變化\n",
    "process = psutil.Process(os.getpid())\n",
    "\n",
    "def memory():\n",
    "    return process.memory_info().rss / 1024 ** 2  # MB\n",
    "\n",
    "print(\"當前記憶體使用量: \", memory(), \"MB\")\n",
    "print(\"配置大量記憶體\")\n",
    "array = []\n",
    "for _ in range(1,50000001):\n",
    "    array.append(_)\n",
    "print(\"配置完成\")\n",
    "print(\"當前記憶體使用量: \", memory(), \"MB\")\n",
    "\n"
   ],
   "outputs": [
    {
     "name": "stdout",
     "output_type": "stream",
     "text": [
      "當前記憶體使用量:  71.0546875 MB\n",
      "配置大量記憶體\n",
      "配置完成\n",
      "當前記憶體使用量:  2002.21484375 MB\n"
     ]
    }
   ],
   "execution_count": 2
  },
  {
   "cell_type": "raw",
   "id": "5ae85029-6d60-4a29-b293-2497ada94a01",
   "metadata": {},
   "source": [
    "結果說明:\n",
    "記憶體產生明顯變化，要比一開始大很多"
   ]
  },
  {
   "cell_type": "markdown",
   "id": "b9ecb774-0df0-4e25-96e0-57246ec7b084",
   "metadata": {},
   "source": [
    "## 📌 延伸挑戰（optional）僅供參考"
   ]
  },
  {
   "cell_type": "markdown",
   "id": "bbc8be20",
   "metadata": {},
   "source": [
    "\n",
    "- 使用 `tracemalloc` 模組追蹤記憶體配置來源\n",
    "- 比較 `list`, `tuple`, `set`, `dict` 等資料結構的記憶體使用差異\n"
   ]
  },
  {
   "metadata": {
    "ExecuteTime": {
     "end_time": "2025-05-20T13:13:33.352334Z",
     "start_time": "2025-05-20T13:13:01.491830Z"
    }
   },
   "cell_type": "code",
   "source": [
    "import tracemalloc\n",
    "\n",
    "def test_structure_memory(structure_type):\n",
    "    if structure_type == 'list':\n",
    "        return [i for i in range(1000000)]\n",
    "    elif structure_type == 'tuple':\n",
    "        return tuple(i for i in range(1000000))\n",
    "    elif structure_type == 'set':\n",
    "        return {i for i in range(1000000)}\n",
    "    elif structure_type == 'dict':\n",
    "        return {i: i for i in range(1000000)}\n",
    "    return None\n",
    "\n",
    "\n",
    "# 開始記憶體追蹤\n",
    "tracemalloc.start()\n",
    "\n",
    "structures = {}\n",
    "for stype in ['list', 'tuple', 'set', 'dict']:\n",
    "    snapshot1 = tracemalloc.take_snapshot()\n",
    "    structures[stype] = test_structure_memory(stype)\n",
    "    snapshot2 = tracemalloc.take_snapshot()\n",
    "\n",
    "    # 計算記憶體差異\n",
    "    stats = snapshot2.compare_to(snapshot1, 'lineno')\n",
    "    top = stats[0]\n",
    "    print(f\" [{stype}] 使用記憶體: {top.size_diff / (1024*1024):.4f} MB\")\n",
    "    print(f\" 來源: {top.traceback.format()[-1]}\")\n",
    "\n",
    "tracemalloc.stop()\n"
   ],
   "id": "7c6ca9483a744219",
   "outputs": [
    {
     "name": "stdout",
     "output_type": "stream",
     "text": [
      " [list] 使用記憶體: 34.7533 MB\n",
      " 來源:     return [i for i in range(1000000)]\n",
      " [tuple] 使用記憶體: 34.3255 MB\n",
      " 來源:     return tuple(i for i in range(1000000))\n",
      " [set] 使用記憶體: 58.6966 MB\n",
      " 來源:     return {i for i in range(1000000)}\n",
      " [dict] 使用記憶體: 66.6965 MB\n",
      " 來源:     return {i: i for i in range(1000000)}\n"
     ]
    }
   ],
   "execution_count": 3
  },
  {
   "metadata": {},
   "cell_type": "markdown",
   "source": [
    "### 結果說明\n",
    "記憶體使用量:\n",
    "$$tuple < list < set < dict$$\n",
    "| 結構類型    | 儲存 10,000 筆資料時記憶體大小 | 特性說明                   |\n",
    "| ------- | ------------------- | ---------------------- |\n",
    "| `tuple` | 最省空間                | 不可變、固定長度、結構簡單          |\n",
    "| `list`  | 中等                  | 可變長度、儲存參照              |\n",
    "| `set`   | 略高                  | 使用雜湊、避免重複              |\n",
    "| `dict`  | 最高                  | 儲存 key-value、額外雜湊與映射成本 |\n"
   ],
   "id": "55f098324fbb8f8f"
  }
 ],
 "metadata": {
  "kernelspec": {
   "display_name": "Python [conda env:base] *",
   "language": "python",
   "name": "conda-base-py"
  },
  "language_info": {
   "codemirror_mode": {
    "name": "ipython",
    "version": 3
   },
   "file_extension": ".py",
   "mimetype": "text/x-python",
   "name": "python",
   "nbconvert_exporter": "python",
   "pygments_lexer": "ipython3",
   "version": "3.10.9"
  }
 },
 "nbformat": 4,
 "nbformat_minor": 5
}
